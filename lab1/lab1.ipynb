{
  "cells": [
    {
      "attachments": {},
      "cell_type": "markdown",
      "metadata": {},
      "source": [
        "# Preprocessing Danych"
      ]
    },
    {
      "attachments": {},
      "cell_type": "markdown",
      "metadata": {},
      "source": [
        "## Brakujące wartości"
      ]
    },
    {
      "attachments": {},
      "cell_type": "markdown",
      "metadata": {},
      "source": [
        "### Wczytanie danych"
      ]
    },
    {
      "cell_type": "markdown",
      "metadata": {},
      "source": [
        "W pierwszej kolejności wczytamy dane z pliku."
      ]
    },
    {
      "cell_type": "code",
      "execution_count": null,
      "metadata": {},
      "outputs": [],
      "source": [
        "import pandas as pd\n",
        "\n",
        "df = pd.read_csv('data/crx.data', names=[\"A\"+str(i) for i in range(1,17)])\n",
        "\n",
        "df.info()"
      ]
    },
    {
      "attachments": {},
      "cell_type": "markdown",
      "metadata": {},
      "source": [
        "Zobaczmy, jak prezentuje się kilka początkowych wierszy danych."
      ]
    },
    {
      "cell_type": "code",
      "execution_count": null,
      "metadata": {},
      "outputs": [],
      "source": [
        "df.head()"
      ]
    },
    {
      "attachments": {},
      "cell_type": "markdown",
      "metadata": {},
      "source": [
        "### Analiza brakujących wartości"
      ]
    },
    {
      "attachments": {},
      "cell_type": "markdown",
      "metadata": {},
      "source": [
        "Kolejnym krokiem jest analiza brakujących wartości oraz podjęcie decyzji, w jaki sposób należy te wartości uzupełnić. Zobaczmy więc, w których kolumnach występują brakujące wartości oraz ile ich jest."
      ]
    },
    {
      "cell_type": "code",
      "execution_count": null,
      "metadata": {},
      "outputs": [],
      "source": [
        "df.isnull().sum()"
      ]
    },
    {
      "attachments": {},
      "cell_type": "markdown",
      "metadata": {},
      "source": [
        "Otrzymaliśmy 0 brakujących wartości. Nie oznacza to jednak, że zbiór danych pozbawiony jest brakujących wartości. W przypadku tego zbioru danych, brakujące wartości reprezentowane są, przy pomocy **?**. Musimy więc zastąpić te wartości, przy pomocy `np.nan`, dzięki czemu otrzymamy rzeczywisty obraz brakujących danych."
      ]
    },
    {
      "cell_type": "code",
      "execution_count": null,
      "metadata": {},
      "outputs": [],
      "source": [
        "df.replace('?', np.nan, inplace=True)\n",
        "df.isnull().sum()"
      ]
    },
    {
      "attachments": {},
      "cell_type": "markdown",
      "metadata": {},
      "source": [
        "Jak widzimy, brakuje niewielkiej ilości danych i zazwyczaj brakujące dane dotyczą tych samych cech. Zobaczmy jeszcze, jak bardzo niewystępowanie danej cechy jest skorelowane z brakiem wartości innej cechy, korzystając z wykresu słupkowego z biblioteki `missingno`."
      ]
    },
    {
      "cell_type": "code",
      "execution_count": null,
      "metadata": {},
      "outputs": [],
      "source": [
        "import missingno as msno\n",
        "\n",
        "msno.bar(df)"
      ]
    },
    {
      "attachments": {},
      "cell_type": "markdown",
      "metadata": {},
      "source": [
        "Jak możemy łatwo zauważyć, najczęściej równocześnie brakuje wartości w kolumnach **A1**, **A2** oraz **A14**."
      ]
    },
    {
      "attachments": {},
      "cell_type": "markdown",
      "metadata": {},
      "source": [
        "### Usuwanie i wypełnianie brakujących danych"
      ]
    },
    {
      "attachments": {},
      "cell_type": "markdown",
      "metadata": {},
      "source": [
        "Jak widzimy, danych brakuje w kolumnach **A1**, **A2**, **A4**, **A5**, **A6**, **A7** oraz **A14**. Kolumny **A2** oraz **A14** zawierają dane ciągłe (liczbowe), natomiast kolumny **A1**, **A4**, **A5**, **A6**, **A7** zawierają dane kategoryczne."
      ]
    },
    {
      "attachments": {},
      "cell_type": "markdown",
      "metadata": {},
      "source": [
        "#### Konwersja danych na odpowiedni typ"
      ]
    },
    {
      "attachments": {},
      "cell_type": "markdown",
      "metadata": {},
      "source": [
        "Jak możemy zauważyć, dane w niektórych kolumnach mają nieprawidłowy typ. Przed przystąpieniem do ich uzupełniania, skonwertujemy te dane na odpowiedni typ dla danej kolumny."
      ]
    },
    {
      "cell_type": "code",
      "execution_count": null,
      "metadata": {},
      "outputs": [],
      "source": [
        "df.dtypes"
      ]
    },
    {
      "cell_type": "code",
      "execution_count": null,
      "metadata": {},
      "outputs": [],
      "source": [
        "data_types = {\n",
        "  'A1': 'category',\n",
        "  'A2': 'float64',\n",
        "  'A3': 'float64',\n",
        "  'A4': 'category',\n",
        "  'A5': 'category',\n",
        "  'A6': 'category',\n",
        "  'A7': 'category',\n",
        "  'A8': 'float64',\n",
        "  'A9': 'category',\n",
        "  'A10': 'category',\n",
        "  'A11': 'float64',\n",
        "  'A12': 'category',\n",
        "  'A13': 'category',\n",
        "  'A14': 'float64',\n",
        "  'A15': 'float64',\n",
        "  'A16': 'category'\n",
        "}\n",
        "\n",
        "df = df.astype(data_types)"
      ]
    },
    {
      "attachments": {},
      "cell_type": "markdown",
      "metadata": {},
      "source": [
        "Sprawdźmy jeszcze, czy dane w kolumnach otrzymały prawidłowe typy. Jak widzimy, rozmiar danych zmniejszył się o połowę, dzięki zastosowaniu prawidłowego kodowania."
      ]
    },
    {
      "cell_type": "code",
      "execution_count": null,
      "metadata": {},
      "outputs": [],
      "source": [
        "df.info()"
      ]
    },
    {
      "cell_type": "markdown",
      "metadata": {},
      "source": [
        "#### Dane liczbowe"
      ]
    },
    {
      "attachments": {},
      "cell_type": "markdown",
      "metadata": {},
      "source": [
        "##### Kolumna A2"
      ]
    },
    {
      "cell_type": "code",
      "execution_count": null,
      "metadata": {},
      "outputs": [],
      "source": [
        "df[\"A2\"].describe()"
      ]
    },
    {
      "attachments": {},
      "cell_type": "markdown",
      "metadata": {},
      "source": [
        "Jak widzimy, średnia (31.568171) oraz mediana (28.460000) mają zbliżone wartości. Oznacza to, że rozkład jest zbliżony do normalnego i nie ma wartości odstających. W tym przypadku brakujące wartości można uzupełnić wartością średnią."
      ]
    },
    {
      "cell_type": "code",
      "execution_count": null,
      "metadata": {},
      "outputs": [],
      "source": [
        "df['A2'].fillna(df['A2'].mean(), inplace=True)"
      ]
    },
    {
      "attachments": {},
      "cell_type": "markdown",
      "metadata": {},
      "source": [
        "##### Kolumna A14"
      ]
    },
    {
      "cell_type": "code",
      "execution_count": null,
      "metadata": {},
      "outputs": [],
      "source": [
        "df[\"A14\"].describe()"
      ]
    },
    {
      "attachments": {},
      "cell_type": "markdown",
      "metadata": {},
      "source": [
        "W przypadku tej kolumny, średnia (184.014771) już bardziej zauważalnie odstaje od mediany (160.000000). Ponieważ różnica jest większa, zastąpienie brakujących wartości medianą będzie lepszym pomysłem."
      ]
    },
    {
      "cell_type": "code",
      "execution_count": null,
      "metadata": {},
      "outputs": [],
      "source": [
        "df['A14'].fillna(df['A14'].median(), inplace=True)"
      ]
    },
    {
      "attachments": {},
      "cell_type": "markdown",
      "metadata": {},
      "source": [
        "#### Dane kategoryczne"
      ]
    },
    {
      "attachments": {},
      "cell_type": "markdown",
      "metadata": {},
      "source": [
        "Ponieważ niewiele wierszy ma brakujące dane w analizowanym zbiorze danych, najlepszym sposobem na uzupełnienie brakujących danych kategorycznych będzie ich uzupełnienie, przy pomocy najczęściej występującej wartości. Oczywiście, moglibyśmy usunąć całe wiersze, w których brakuje danych, ale nie jest to najlepsze rozwiązanie, ponieważ w ten sposób moglibyśmy się pozbyć wierszy, zawierających cenne informacje."
      ]
    },
    {
      "cell_type": "code",
      "execution_count": null,
      "metadata": {},
      "outputs": [],
      "source": [
        "for column in (\"A1\", \"A4\", \"A5\", \"A6\", \"A7\"):\n",
        "  df[column].fillna(df[column].mode()[0], inplace=True)"
      ]
    },
    {
      "attachments": {},
      "cell_type": "markdown",
      "metadata": {},
      "source": [
        "#### Sprawdzenie, czy wciąż brakuje wartości"
      ]
    },
    {
      "attachments": {},
      "cell_type": "markdown",
      "metadata": {},
      "source": [
        "Jak widać, udało nam się uzupełnić wszystkie brakujące wartości w zbiorze danych. W ten sposób zakończyliśmy pierwszy etap preprocessingu danych."
      ]
    },
    {
      "cell_type": "code",
      "execution_count": null,
      "metadata": {},
      "outputs": [],
      "source": [
        "df.isnull().sum()"
      ]
    },
    {
      "attachments": {},
      "cell_type": "markdown",
      "metadata": {},
      "source": [
        "## Macierz rozrzutu (scatter matrix)"
      ]
    },
    {
      "attachments": {},
      "cell_type": "markdown",
      "metadata": {},
      "source": [
        "Na poniższych wykresach widzimy jedynie dane numeryczne, ponieważ dane kategoryczne nie mogą zostać przedstawione w postaci takich wykresów.\n",
        "\n",
        "Na poniższych wykresach trudno zaobserwować silny trend. W przypadku cech **A2** i **A3**, **A2** i **A8** oraz **A3** i **A8** daje się zaobserwować nieznaczną zależność cech, ponieważ punkty układają się wzdłuż prostej. "
      ]
    },
    {
      "cell_type": "code",
      "execution_count": null,
      "metadata": {},
      "outputs": [],
      "source": [
        "pd.plotting.scatter_matrix(df, diagonal='hist', figsize=(15, 15))\n",
        "plt.show()"
      ]
    },
    {
      "cell_type": "markdown",
      "metadata": {},
      "source": [
        "Korelację cech lepiej będzie się dało zauważyć, korzystając z wykresu typu **heatmap**."
      ]
    },
    {
      "cell_type": "code",
      "execution_count": null,
      "metadata": {},
      "outputs": [],
      "source": [
        "import seaborn as sns\n",
        "\n",
        "plt.figure(figsize=(12, 10))\n",
        "sns.heatmap(data.corr(), annot=True, fmt=\".2f\", cmap=\"coolwarm\")"
      ]
    },
    {
      "attachments": {},
      "cell_type": "markdown",
      "metadata": {},
      "source": [
        "Jak widzimy, w zbiorze danych nie ma silnych korelacji cech."
      ]
    },
    {
      "attachments": {},
      "cell_type": "markdown",
      "metadata": {},
      "source": [
        "## Kodowanie wartości nominalnych"
      ]
    },
    {
      "cell_type": "markdown",
      "metadata": {},
      "source": []
    },
    {
      "attachments": {},
      "cell_type": "markdown",
      "metadata": {},
      "source": [
        "**Klasyfikator Naiwny Bayesa**\n",
        "- Obie reprezentacje są dopuszczalne (nominalna i po zakodowaniu),\n",
        "- Najlepiej radzi sobie z danymi kategorycznymi.\n",
        "- Najlepiej działa z danymi niezależnymi od siebie (jak można zauważyć z heatmapy powyżej, dane w zdecydowanej większości są od siebie mało zależne),\n",
        "- gdy cecha ma dużą ilość wartości kategorycznych to warto zastosować one hot encoding w celu zwiększenia dokładności klasyfikacji, ale w przypadku małej liczby wartości nie powinien mieć dużego wpływu na dokładność.\n",
        "\n",
        "**Klas. k-NN**\n",
        "- Obie reprezentacje są dopuszczalne,\n",
        "- Warto zastosować one hot encoding w celu polepszenia wyników klasyfikacji, ale może zwiększyć czas obliczeń.\n",
        "\n",
        "**Klas. SVM**\n",
        "- Obie reprezentacje są dopuszczalne,\n",
        "- Dzięki zastosowaniu One hot encodingu można zwiększyć dokładność predykcji, ale w niektóych przypadkach może prowadzić do overfittingu. Zwiększa to też czas obliczeń. W wielu przypadkach lepiej zastosować inny sposób kodowania (Ordinal encoding - inne wartości oprócz 0 i 1),\n",
        "- Wybór reprezentacji ma mniejsze znaczenie niż w k-NN.\n",
        "\n",
        "**Lasy losowe**\n",
        "- Z obiema reprezentacjami radzi sobie dobrze,\n",
        "- Jeżeli dane kategoryczną są od siebie zależne one hot encoding zmniejsza dokładność klasyfikacji."
      ]
    },
    {
      "cell_type": "markdown",
      "metadata": {},
      "source": [
        "### Kodowanie danych nominalnych"
      ]
    },
    {
      "attachments": {},
      "cell_type": "markdown",
      "metadata": {},
      "source": [
        "Przed przystąpieniem do preprocessingu danych, zakodujemy dane kategoryczne, korzystając z metody one-hot encoding."
      ]
    },
    {
      "cell_type": "code",
      "execution_count": null,
      "metadata": {},
      "outputs": [],
      "source": [
        "df.shape"
      ]
    },
    {
      "cell_type": "code",
      "execution_count": null,
      "metadata": {},
      "outputs": [],
      "source": [
        "df = pd.get_dummies(data=df,columns=[\"A1\",\"A4\",\"A5\",\"A6\",\"A7\",\"A9\",\"A10\",\"A12\",\"A13\"])\n",
        "df.shape"
      ]
    },
    {
      "attachments": {},
      "cell_type": "markdown",
      "metadata": {},
      "source": [
        "Jak widzimy, otrzymany dataframe ma o 31 kolumn więcej od poprzedniego. Ponieważ operujemy na niewielkim zbiorze danych, możemy sobie pozwolić na taki wybór kodowania i znacząco zwiększona liczba kolumn nam nie przeszkadza, a może poprawić wyniki treningu."
      ]
    },
    {
      "cell_type": "code",
      "execution_count": null,
      "metadata": {},
      "outputs": [],
      "source": [
        "df.head()"
      ]
    },
    {
      "attachments": {},
      "cell_type": "markdown",
      "metadata": {},
      "source": [
        "## Preprocessing danych i dokładność klasyfikatorów"
      ]
    },
    {
      "attachments": {},
      "cell_type": "markdown",
      "metadata": {},
      "source": [
        "### Przygotowanie zbiorów danych"
      ]
    },
    {
      "attachments": {},
      "cell_type": "markdown",
      "metadata": {},
      "source": [
        "Przekształcimy teraz kolumnę, zawierającą oczekiwane wyniki predykcji na wartości boolowskie. Ze zbioru wykorzystywanego do treningu (**X**) usuwamy zbiór wyników (cech do przewidzenia). Zbiór **y**, zawierający prawidłowe wyniki predyjkcji."
      ]
    },
    {
      "cell_type": "code",
      "execution_count": null,
      "metadata": {},
      "outputs": [],
      "source": [
        "df[\"A16\"] = (df[\"A16\"] == \"+\").astype(np.int8)"
      ]
    },
    {
      "cell_type": "code",
      "execution_count": null,
      "metadata": {},
      "outputs": [],
      "source": [
        "X = df.drop(\"A16\", axis=1)\n",
        "y = df[\"A16\"]\n",
        "\n",
        "X.head()"
      ]
    },
    {
      "attachments": {},
      "cell_type": "markdown",
      "metadata": {},
      "source": [
        "### Podział na zbiór treningowy i testowy"
      ]
    },
    {
      "attachments": {},
      "cell_type": "markdown",
      "metadata": {},
      "source": [
        "Przed przystąpieniem do preprocessingu danych, należy dokonać podziału zbioru danych na zbiór treningowy i testowy."
      ]
    },
    {
      "cell_type": "code",
      "execution_count": null,
      "metadata": {},
      "outputs": [],
      "source": [
        "# Podziel zbiór danych na zbiór uczący i testowy\n",
        "X_train, X_test, y_train, y_test = train_test_split(X, y, test_size=0.2, random_state=42)\n"
      ]
    },
    {
      "attachments": {},
      "cell_type": "markdown",
      "metadata": {},
      "source": [
        "### Skalowanie cech oraz testowanie dokładności klasyfikacji."
      ]
    },
    {
      "cell_type": "code",
      "execution_count": null,
      "metadata": {},
      "outputs": [],
      "source": [
        "from scipy import stats\n",
        "\n",
        "def confidence_interval(scores):\n",
        "  mean_score = np.mean(scores)\n",
        "  std_score = np.std(scores)\n",
        "  ci_lower, ci_upper = stats.t.interval(0.95, len(scores)-1, loc=mean_score, scale=std_score)\n",
        "  return ci_lower, ci_upper"
      ]
    },
    {
      "cell_type": "code",
      "execution_count": null,
      "metadata": {},
      "outputs": [],
      "source": [
        "from sklearn.neighbors import KNeighborsClassifier\n",
        "from sklearn.ensemble import RandomForestClassifier\n",
        "from sklearn.preprocessing import MinMaxScaler, StandardScaler\n",
        "from sklearn.model_selection import KFold\n",
        "from sklearn.model_selection import cross_val_score\n",
        "\n",
        "knn = KNeighborsClassifier(n_neighbors=5)\n",
        "rf = RandomForestClassifier(n_estimators=100, random_state=42)\n",
        "\n",
        "scalers = [None, StandardScaler(), MinMaxScaler()]\n",
        "\n",
        "for scaler in scalers:\n",
        "    if scaler:\n",
        "        X_train_scaled = scaler.fit_transform(X_train)\n",
        "        X_test_scaled = scaler.transform(X_test)\n",
        "    else:\n",
        "        X_train_scaled = X_train\n",
        "        X_test_scaled = X_test\n",
        "    \n",
        "    folds = KFold(n_splits=5, shuffle=True, random_state=42)\n",
        "    scaler_name = scaler.__class__.__name__ if scaler else \"no scaler\"\n",
        "    \n",
        "    knn_scores = cross_val_score(knn, X_train_scaled, y_train, cv=folds)\n",
        "    print(f'KNN scores with {scaler_name}: {knn_scores}')\n",
        "    print(f'KNN mean score with {scaler_name}: {np.mean(knn_scores)}')\n",
        "    print(f'KNN confidence interval for {scaler_name}: {confidence_interval(knn_scores)}\\n')\n",
        "    \n",
        "    rf_scores = cross_val_score(rf, X_train_scaled, y_train, cv=folds)\n",
        "    print(f'Random Forest scores with {scaler_name}: {rf_scores}')\n",
        "    print(f'Random Forest mean score with {scaler_name}: {np.mean(rf_scores)}')\n",
        "    print(f'Random Forest confidence interval for {scaler_name}: {confidence_interval(rf_scores)}\\n\\n')"
      ]
    },
    {
      "attachments": {},
      "cell_type": "markdown",
      "metadata": {},
      "source": [
        "### Porównanie wyników"
      ]
    },
    {
      "attachments": {},
      "cell_type": "markdown",
      "metadata": {},
      "source": [
        "Zapiszmy najpierw wyniki w bardziej czytelnej postaci. Poniższa tabela zawiera zebrane wyniki wraz z 95% przedziałami ufności.\n",
        "\n",
        "<table>\n",
        "    <thead>\n",
        "        <tr>\n",
        "            <th></th>\n",
        "            <th colspan=\"2\">Bez skalowania</th>\n",
        "            <th colspan=\"2\">Normalizacja</th>\n",
        "            <th colspan=\"2\">Standaryzacja</th>\n",
        "        </tr>\n",
        "    </thead>\n",
        "    <tbody>\n",
        "        <tr>\n",
        "            <td></td>\n",
        "            <td>KNN</td>\n",
        "            <td>Random Forest</td>\n",
        "            <td>KNN</td>\n",
        "            <td>Random Forest</td>\n",
        "            <td>KNN</td>\n",
        "            <td>Random Forest</td>\n",
        "        </tr>\n",
        "        <tr>\n",
        "            <td>Wynik</td>\n",
        "            <td>0.688</td>\n",
        "            <td>0.879</td>\n",
        "            <td>0.837</td>\n",
        "            <td>0.877</td>\n",
        "            <td>0.869</td>\n",
        "            <td>0.877</td>\n",
        "        </tr>\n",
        "        <tr>\n",
        "            <td>Przedział ufności</td>\n",
        "            <td>(0.516, 0.861)</td>\n",
        "            <td>(0.788, 0.969)</td>\n",
        "            <td>(0.709, 0.965)</td>\n",
        "            <td>(0.781, 0.973)</td>\n",
        "            <td>(0.694, 1.045)</td>\n",
        "            <td>(0.777, 0.977)</td>\n",
        "        </tr>\n",
        "    </tbody>\n",
        "</table>"
      ]
    },
    {
      "attachments": {},
      "cell_type": "markdown",
      "metadata": {},
      "source": [
        "Jak można łatwo zauważyć, w przypadku klasyfikatora KNN, wykorzystanie skalowania dało znaczącą poprawę wyniku (najlepszy wynik przy wykorzystaniu standaryzacji). W przypadku klasyfikatora Random Forest, wynik jest prawie taki sam dla przeskalowanych danych oraz dla danych bez skalowania. W przypadku klasyfikatora Random Forest, wykorzystanie skalowania nieznacznie pogarsza otrzymane wyniki."
      ]
    },
    {
      "attachments": {},
      "cell_type": "markdown",
      "metadata": {},
      "source": [
        "## Wykresy"
      ]
    },
    {
      "cell_type": "markdown",
      "metadata": {},
      "source": [
        "Wykresy wykonaliśmy dla klasyfikatora Random Forest z wykorzystaniem standard scalera."
      ]
    },
    {
      "cell_type": "markdown",
      "metadata": {},
      "source": [
        "### Precision-recall curve"
      ]
    },
    {
      "cell_type": "code",
      "execution_count": 156,
      "metadata": {},
      "outputs": [
        {
          "data": {
            "image/png": "[encoded data removed]",
            "text/plain": [
              "<Figure size 432x288 with 1 Axes>"
            ]
          },
          "metadata": {
            "needs_background": "light"
          },
          "output_type": "display_data"
        }
      ],
      "source": [
        "# Skalowanie danych treningowych\n",
        "scaler = StandardScaler()\n",
        "X_train = scaler.fit_transform(X_train)\n",
        "\n",
        "# Tworzenie klasyfikatora Random Forest i wytrenowanie go na danych treningowych\n",
        "rfc = RandomForestClassifier(random_state=42)\n",
        "rfc.fit(X_train, y_train)\n",
        "\n",
        "# Skalowanie danych testowych\n",
        "X_test = scaler.transform(X_test)\n",
        "\n",
        "# Obliczanie precyzji i odzyskiwania dla różnych progów decyzyjnych\n",
        "y_score = rfc.predict_proba(X_test)[:, 1]\n",
        "precision, recall, thresholds = precision_recall_curve(y_test, y_score)\n",
        "\n",
        "# Tworzenie wykresu precision-recall\n",
        "plt.plot(recall, precision)\n",
        "plt.xlabel('Recall')\n",
        "plt.ylabel('Precision')\n",
        "plt.title('Precision-Recall Curve')\n",
        "plt.show()"
      ]
    },
    {
      "attachments": {},
      "cell_type": "markdown",
      "metadata": {},
      "source": [
        "### Receiver operating characteristic"
      ]
    },
    {
      "cell_type": "markdown",
      "metadata": {},
      "source": []
    }
  ],
  "metadata": {
    "colab": {
      "provenance": []
    },
    "kernelspec": {
      "display_name": "Python 3",
      "language": "python",
      "name": "python3"
    },
    "language_info": {
      "codemirror_mode": {
        "name": "ipython",
        "version": 3
      },
      "file_extension": ".py",
      "mimetype": "text/x-python",
      "name": "python",
      "nbconvert_exporter": "python",
      "pygments_lexer": "ipython3",
      "version": "3.10.0"
    },
    "orig_nbformat": 4
  },
  "nbformat": 4,
  "nbformat_minor": 0
}
